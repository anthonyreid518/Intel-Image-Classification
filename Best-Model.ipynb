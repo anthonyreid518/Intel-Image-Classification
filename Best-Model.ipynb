{
 "cells": [
  {
   "cell_type": "code",
   "execution_count": 3,
   "id": "ec7e1ec4-3075-4420-82db-b7518258ba92",
   "metadata": {},
   "outputs": [],
   "source": [
    "import pandas as pd\n",
    "import numpy as np\n",
    "import seaborn as sns\n",
    "import matplotlib.pyplot as plt\n",
    "\n",
    "#import keras\n",
    "from tensorflow.keras.preprocessing.image import ImageDataGenerator\n",
    "from tensorflow.keras.layers import Dense, Conv2D, MaxPool2D, Dropout, Flatten\n",
    "from tensorflow.keras.models import Sequential\n",
    "from tensorflow.keras.callbacks import EarlyStopping, ReduceLROnPlateau\n",
    "from tensorflow.keras.regularizers import l1, l2, l1_l2"
   ]
  },
  {
   "cell_type": "code",
   "execution_count": 4,
   "id": "c1f3e592-f146-4b73-8859-00d741f8894d",
   "metadata": {},
   "outputs": [
    {
     "name": "stdout",
     "output_type": "stream",
     "text": [
      "Found 14034 images belonging to 6 classes.\n",
      "Found 3000 images belonging to 6 classes.\n"
     ]
    }
   ],
   "source": [
    "train_gen = ImageDataGenerator(rescale = 1 / 255.)\n",
    "\n",
    "train_data = train_gen.flow_from_directory('./train',\n",
    "                                           batch_size = 14034,#14034\n",
    "                                          target_size = (150,150),\n",
    "                                          color_mode = 'rgb')\n",
    "test_data = train_gen.flow_from_directory('./val',\n",
    "                                          batch_size = 3000,#3000\n",
    "                                          target_size = (150,150),\n",
    "                                         color_mode = 'rgb')\n",
    "# making the train data and train labels variables\n",
    "train_data, train_labels = train_data.next()\n",
    "\n",
    "# making the test data and test labels variables\n",
    "test_data, test_labels = test_data.next()"
   ]
  },
  {
   "cell_type": "code",
   "execution_count": null,
   "id": "55541353-1029-42dc-b334-12f187b0fa51",
   "metadata": {},
   "outputs": [],
   "source": []
  },
  {
   "cell_type": "code",
   "execution_count": 5,
   "id": "ab4e499a-b939-46c7-8a9e-3402b7f0b1cc",
   "metadata": {},
   "outputs": [
    {
     "name": "stdout",
     "output_type": "stream",
     "text": [
      "Epoch 1/20\n",
      "439/439 [==============================] - 71s 161ms/step - loss: 1.0217 - accuracy: 0.6003 - val_loss: 0.7960 - val_accuracy: 0.7033\n",
      "Epoch 2/20\n",
      "439/439 [==============================] - 76s 173ms/step - loss: 0.6858 - accuracy: 0.7470 - val_loss: 0.7181 - val_accuracy: 0.7170\n",
      "Epoch 3/20\n",
      "439/439 [==============================] - 74s 169ms/step - loss: 0.5397 - accuracy: 0.8040 - val_loss: 0.7058 - val_accuracy: 0.7517\n",
      "Epoch 4/20\n",
      "439/439 [==============================] - 74s 169ms/step - loss: 0.4151 - accuracy: 0.8521 - val_loss: 0.7074 - val_accuracy: 0.7543\n",
      "Epoch 5/20\n",
      "439/439 [==============================] - 76s 172ms/step - loss: 0.3019 - accuracy: 0.8977 - val_loss: 0.7552 - val_accuracy: 0.7590\n",
      "Epoch 6/20\n",
      "439/439 [==============================] - 73s 167ms/step - loss: 0.2217 - accuracy: 0.9245 - val_loss: 0.8651 - val_accuracy: 0.7273\n",
      "\n",
      "Epoch 00006: ReduceLROnPlateau reducing learning rate to 0.0002500000118743628.\n",
      "Epoch 7/20\n",
      "439/439 [==============================] - 97s 220ms/step - loss: 0.1085 - accuracy: 0.9720 - val_loss: 0.8190 - val_accuracy: 0.7647\n",
      "Epoch 8/20\n",
      "439/439 [==============================] - 83s 188ms/step - loss: 0.0833 - accuracy: 0.9801 - val_loss: 0.8683 - val_accuracy: 0.7663\n",
      "Epoch 9/20\n",
      "439/439 [==============================] - 85s 194ms/step - loss: 0.0680 - accuracy: 0.9848 - val_loss: 0.9270 - val_accuracy: 0.7647\n",
      "\n",
      "Epoch 00009: ReduceLROnPlateau reducing learning rate to 6.25000029685907e-05.\n",
      "Epoch 10/20\n",
      "439/439 [==============================] - 83s 188ms/step - loss: 0.0511 - accuracy: 0.9898 - val_loss: 0.9359 - val_accuracy: 0.7653\n",
      "\n",
      "Epoch 00010: ReduceLROnPlateau reducing learning rate to 1.5625000742147677e-05.\n",
      "Epoch 11/20\n",
      "439/439 [==============================] - 70s 159ms/step - loss: 0.0468 - accuracy: 0.9916 - val_loss: 0.9388 - val_accuracy: 0.7653\n",
      "\n",
      "Epoch 00011: ReduceLROnPlateau reducing learning rate to 3.906250185536919e-06.\n"
     ]
    }
   ],
   "source": [
    "model13 = Sequential()\n",
    "\n",
    "model13.add(Conv2D(filters = 10, kernel_size = (3, 3), activation = 'relu'))\n",
    "model13.add(MaxPool2D(pool_size = (2, 2)))\n",
    "\n",
    "model13.add(Conv2D(filters = 10, kernel_size = (3, 3), activation = 'relu'))\n",
    "model13.add(MaxPool2D(pool_size = (2, 2)))\n",
    "\n",
    "model13.add(Flatten())\n",
    "model13.add(Dense(100, activation = 'relu'))\n",
    "model13.add(Dense(6, activation = 'softmax'))\n",
    "\n",
    "early_stop = EarlyStopping(monitor='val_accuracy', patience=3)\n",
    "learning_rate_reduction = ReduceLROnPlateau(monitor='val_accuracy',\n",
    "                                            patience=1,\n",
    "                                            verbose=1,\n",
    "                                            factor=0.25,\n",
    "                                            min_lr=0.00000001)\n",
    "\n",
    "\n",
    "model13.compile(loss = 'categorical_crossentropy', metrics = ['accuracy'], optimizer = 'adam')\n",
    "\n",
    "# fit\n",
    "history13 = model13.fit(train_data, \n",
    "           train_labels, \n",
    "           epochs=20,\n",
    "           validation_data = (test_data, test_labels),\n",
    "            callbacks=[learning_rate_reduction, early_stop]\n",
    "          )"
   ]
  },
  {
   "cell_type": "code",
   "execution_count": 6,
   "id": "90cc55b7-a1dc-44f7-95d6-e63efec1e930",
   "metadata": {},
   "outputs": [],
   "source": [
    "#model13.save('final_model.h5')"
   ]
  },
  {
   "cell_type": "code",
   "execution_count": null,
   "id": "05b486a1-6708-482a-9889-3e3bea69c0a3",
   "metadata": {},
   "outputs": [],
   "source": []
  }
 ],
 "metadata": {
  "kernelspec": {
   "display_name": "Python 3",
   "language": "python",
   "name": "python3"
  },
  "language_info": {
   "codemirror_mode": {
    "name": "ipython",
    "version": 3
   },
   "file_extension": ".py",
   "mimetype": "text/x-python",
   "name": "python",
   "nbconvert_exporter": "python",
   "pygments_lexer": "ipython3",
   "version": "3.9.1"
  }
 },
 "nbformat": 4,
 "nbformat_minor": 5
}
